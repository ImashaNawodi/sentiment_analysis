{
 "cells": [
  {
   "cell_type": "code",
   "execution_count": null,
   "id": "b21d8a22-215c-4b4b-be68-20a6903dfd0c",
   "metadata": {},
   "outputs": [],
   "source": []
  }
 ],
 "metadata": {
  "kernelspec": {
   "display_name": "",
   "name": ""
  },
  "language_info": {
   "name": ""
  }
 },
 "nbformat": 4,
 "nbformat_minor": 5
}
